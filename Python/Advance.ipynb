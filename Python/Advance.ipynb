{
 "cells": [
  {
   "attachments": {},
   "cell_type": "markdown",
   "metadata": {},
   "source": [
    "Magic method and dunder"
   ]
  },
  {
   "cell_type": "code",
   "execution_count": 17,
   "metadata": {},
   "outputs": [
    {
     "name": "stdout",
     "output_type": "stream",
     "text": [
      "in init\n",
      "in del\n",
      "<__main__.Person object at 0x7fe0e9d1bb90>\n"
     ]
    }
   ],
   "source": [
    "# \n",
    "\n",
    "class Person : \n",
    "    # Construct object\n",
    "    def __init__(self, first,last):\n",
    "        self.first = first\n",
    "        self.last = last\n",
    "        print(\"in init\")\n",
    "    # Destruct object\n",
    "    def __del__(self):\n",
    "        print(\"in del\")\n",
    "        \n",
    "    def __call__(self):\n",
    "        print(\"calll\")\n",
    "        \n",
    "p = Person(\"Akshay\", \"Kanawade\")\n",
    "print(p)\n",
    "# print(p.first)"
   ]
  },
  {
   "cell_type": "code",
   "execution_count": null,
   "metadata": {},
   "outputs": [],
   "source": [
    "\n",
    "\n"
   ]
  }
 ],
 "metadata": {
  "kernelspec": {
   "display_name": "Python 3",
   "language": "python",
   "name": "python3"
  },
  "language_info": {
   "codemirror_mode": {
    "name": "ipython",
    "version": 3
   },
   "file_extension": ".py",
   "mimetype": "text/x-python",
   "name": "python",
   "nbconvert_exporter": "python",
   "pygments_lexer": "ipython3",
   "version": "3.11.2"
  },
  "orig_nbformat": 4
 },
 "nbformat": 4,
 "nbformat_minor": 2
}
