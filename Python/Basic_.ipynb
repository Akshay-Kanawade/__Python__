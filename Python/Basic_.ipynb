{
 "cells": [
  {
   "attachments": {},
   "cell_type": "markdown",
   "metadata": {},
   "source": [
    "Print fun : "
   ]
  },
  {
   "cell_type": "code",
   "execution_count": 1,
   "metadata": {},
   "outputs": [
    {
     "name": "stdout",
     "output_type": "stream",
     "text": [
      "Hello\n",
      "Hello world\n",
      "Hello \n",
      "      python\n",
      "Hello world's\n",
      "Hello world\"s\n",
      "hello \\n World\n",
      "Hello world's\n",
      "hello \n",
      "Next line\n",
      "hello world hello worldddd\n",
      "Hello\\n world\n",
      "😃\n"
     ]
    }
   ],
   "source": [
    "# Print using single, double, triple quotes\n",
    "print('Hello')\n",
    "print(\"Hello world\")\n",
    "print(\"\"\"Hello \n",
    "      python\"\"\")\n",
    "\n",
    "# Use single and double quote \n",
    "print(\"Hello world's\")\n",
    "print('Hello world\"s')\n",
    "\n",
    "# Use escape sequance\n",
    "print(\"hello \\\\n World\")\n",
    "\n",
    "print('Hello world\\'s')\n",
    "print(\"hello \\nNext line\")\n",
    "\n",
    "# Use end\n",
    "print(\"hello world\" , end=\" \")\n",
    "print(\"hello worldddd\" )\n",
    "\n",
    "# Raw string\n",
    "print(r'Hello\\n world')\n",
    "\n",
    "# Unicode\n",
    "print(\"\\U0001F603\")"
   ]
  },
  {
   "attachments": {},
   "cell_type": "markdown",
   "metadata": {},
   "source": [
    "Input"
   ]
  },
  {
   "cell_type": "code",
   "execution_count": 2,
   "metadata": {},
   "outputs": [
    {
     "name": "stdout",
     "output_type": "stream",
     "text": [
      "Akshay\n",
      "12345 <class 'str'> 12345\n",
      "Akshay 123456\n"
     ]
    }
   ],
   "source": [
    "\n",
    "fName = input(\"Enter name : \" )\n",
    "num = input(\"Enter any num : \")\n",
    "# get muultiple input \n",
    "n, a = input(\"enter name and age sep by space :\").split()  # sep by ,  input().split(\",\") \n",
    "print(fName)\n",
    "# convert num to int\n",
    "print(num,type(num), int(num))\n",
    "\n",
    "print(n, a)"
   ]
  },
  {
   "attachments": {},
   "cell_type": "markdown",
   "metadata": {},
   "source": [
    "Operators"
   ]
  },
  {
   "cell_type": "code",
   "execution_count": 3,
   "metadata": {},
   "outputs": [
    {
     "name": "stdout",
     "output_type": "stream",
     "text": [
      "5\n",
      "-1\n",
      "6\n",
      "0.6666666666666666\n",
      "0\n",
      "2\n",
      "8\n",
      "1.41421\n"
     ]
    }
   ],
   "source": [
    "# Math operatoes\n",
    "print(2+3)\n",
    "print(2-3)\n",
    "print(2*3)\n",
    "print(2/3)\n",
    "print(2//3)\n",
    "print(2%3)\n",
    "print(2**3)\n",
    "print(round(2**0.5, 5))"
   ]
  },
  {
   "attachments": {},
   "cell_type": "markdown",
   "metadata": {},
   "source": [
    "Variables : "
   ]
  },
  {
   "cell_type": "code",
   "execution_count": 4,
   "metadata": {},
   "outputs": [
    {
     "name": "stdout",
     "output_type": "stream",
     "text": [
      "8\n",
      "3\n",
      "sadxzcvf\n",
      "dscs\n",
      "dscs\n"
     ]
    }
   ],
   "source": [
    "a =  8\n",
    "print(a)\n",
    "\n",
    "a = 3\n",
    "print(a)\n",
    "\n",
    "_name = \"sadxzcvf\"\n",
    "print(_name)\n",
    "\n",
    "firstName = \"dscs\"  #camel case\n",
    "print(firstName)\n",
    "\n",
    "first_name = \"dscs\"  #snake case - python way\n",
    "print(first_name)"
   ]
  },
  {
   "attachments": {},
   "cell_type": "markdown",
   "metadata": {},
   "source": [
    "String"
   ]
  },
  {
   "cell_type": "code",
   "execution_count": 5,
   "metadata": {},
   "outputs": [
    {
     "name": "stdout",
     "output_type": "stream",
     "text": [
      "String Formating ***************\n",
      "hello World\n",
      "hello world\n",
      "hello World\n",
      "\n"
     ]
    }
   ],
   "source": [
    "# str formating \n",
    "print(\"String Formating ***************\")\n",
    "print(\"hello\" + \" \" + \"World\")\n",
    "#  .format method\n",
    "print(\"hello {}\".format(\"world\"))\n",
    "# f string method\n",
    "print(f'hello {\"World\"}')\n",
    "print()"
   ]
  },
  {
   "cell_type": "code",
   "execution_count": 6,
   "metadata": {},
   "outputs": [
    {
     "name": "stdout",
     "output_type": "stream",
     "text": [
      "string concat **************\n",
      "Hello World\n",
      "Hello 5\n",
      "Hello Hello Hello \n",
      "\n"
     ]
    }
   ],
   "source": [
    "# Concat\n",
    "print(\"string concat **************\")\n",
    "print(\"Hello \" + \"World\")\n",
    "print(\"Hello \" + str(5))\n",
    "print(\"Hello \" * 3)\n",
    "print()"
   ]
  },
  {
   "cell_type": "code",
   "execution_count": 7,
   "metadata": {},
   "outputs": [
    {
     "name": "stdout",
     "output_type": "stream",
     "text": [
      "hello\n"
     ]
    }
   ],
   "source": [
    "#Replace\n",
    "print(\"Hello\".replace(\"H\",\"h\"))"
   ]
  },
  {
   "cell_type": "code",
   "execution_count": 8,
   "metadata": {},
   "outputs": [
    {
     "name": "stdout",
     "output_type": "stream",
     "text": [
      "****asdfghjk****\n",
      "\n"
     ]
    }
   ],
   "source": [
    "# Center\n",
    "print(\"asdfghjk\".center(16, \"*\"))\n",
    "print()"
   ]
  },
  {
   "cell_type": "code",
   "execution_count": 9,
   "metadata": {},
   "outputs": [
    {
     "name": "stdout",
     "output_type": "stream",
     "text": [
      "11\n",
      "\n"
     ]
    }
   ],
   "source": [
    "# Find\n",
    "_str= \"asd ff fef eff dsf dg wrw rw r wr w rw\"\n",
    "print(_str.find(\"ef\",_str.find(\"ef\")+1))\n",
    "print()"
   ]
  },
  {
   "cell_type": "code",
   "execution_count": 10,
   "metadata": {},
   "outputs": [
    {
     "name": "stdout",
     "output_type": "stream",
     "text": [
      "asdf_df_df_df_d\n",
      "\n"
     ]
    }
   ],
   "source": [
    "# Replace\n",
    "print(\"asdf df df df d\".replace(\" \", \"_\"))\n",
    "print()"
   ]
  },
  {
   "cell_type": "code",
   "execution_count": 11,
   "metadata": {},
   "outputs": [
    {
     "name": "stdout",
     "output_type": "stream",
     "text": [
      "31\n",
      "30\n",
      "29\n",
      "27\n",
      "\n"
     ]
    }
   ],
   "source": [
    "#Strip\n",
    "print(len(\" fwfw frewff  fere  fefe fff   \"))\n",
    "print(len(\"  fwfw frewff  fere  fefe fff   \".lstrip()))\n",
    "print(len(\"  fwfw frewff  fere  fefe fff   \".rstrip()))\n",
    "print(len(\"  fwfw frewff  fere  fefe fff  \".strip()))\n",
    "print()"
   ]
  },
  {
   "cell_type": "code",
   "execution_count": 12,
   "metadata": {},
   "outputs": [
    {
     "name": "stdout",
     "output_type": "stream",
     "text": [
      "String methods *************\n",
      "5\n",
      "hello\n",
      "HELLO\n",
      "Hello\n",
      "2\n",
      "2\n"
     ]
    }
   ],
   "source": [
    "# String Methods\n",
    "print(\"String methods *************\")\n",
    "print(len(\"hello\"))\n",
    "print(\"hello\".lower())\n",
    "print(\"hello\".upper())\n",
    "print(\"hello\".title())\n",
    "print(\"hello\".count(\"l\"))\n",
    "print(\"hello hii\".title().count('H'))"
   ]
  },
  {
   "cell_type": "code",
   "execution_count": 13,
   "metadata": {},
   "outputs": [
    {
     "name": "stdout",
     "output_type": "stream",
     "text": [
      "String indexing *************\n",
      "H\n",
      "Hello\n",
      "He\n",
      "o\n",
      "Hell\n",
      "olleH\n",
      "Hlo\n",
      "\n"
     ]
    }
   ],
   "source": [
    "# String Indexing\n",
    "print(\"String indexing *************\")\n",
    "print(\"Hello\"[0])\n",
    "print(\"Hello\"[0:5])\n",
    "print(\"Hello\"[0:2])\n",
    "print(\"Hello\"[-1])\n",
    "print(\"Hello\"[:-1])\n",
    "print(\"Hello\"[::-1])\n",
    "print(\"Hello\"[0: :2])\n",
    "print()"
   ]
  }
 ],
 "metadata": {
  "kernelspec": {
   "display_name": "Python 3",
   "language": "python",
   "name": "python3"
  },
  "language_info": {
   "codemirror_mode": {
    "name": "ipython",
    "version": 3
   },
   "file_extension": ".py",
   "mimetype": "text/x-python",
   "name": "python",
   "nbconvert_exporter": "python",
   "pygments_lexer": "ipython3",
   "version": "3.11.2"
  },
  "orig_nbformat": 4
 },
 "nbformat": 4,
 "nbformat_minor": 2
}
